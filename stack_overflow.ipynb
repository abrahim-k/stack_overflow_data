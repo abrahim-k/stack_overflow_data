{
 "cells": [
  {
   "cell_type": "code",
   "execution_count": 1,
   "id": "8db15af8-65da-46f7-ac30-a32ccdb4cbeb",
   "metadata": {
    "scrolled": true
   },
   "outputs": [],
   "source": [
    "import pandas as pd"
   ]
  },
  {
   "cell_type": "code",
   "execution_count": 2,
   "id": "67ab7b43-0e32-4b78-8b47-46c47766c130",
   "metadata": {},
   "outputs": [],
   "source": [
    "df = pd.read_csv('./data/survey_results_public.csv')\n",
    "df_schema = pd.read_csv('./data/survey_results_schema.csv')\n",
    "pd.set_option('display.max_colwidth', None)"
   ]
  },
  {
   "cell_type": "code",
   "execution_count": 3,
   "id": "eedea36e-4060-4889-b215-44f88796b963",
   "metadata": {},
   "outputs": [],
   "source": [
    "class ResultDfMaker:\n",
    "    def __init__(self, df):\n",
    "        self.df = df\n",
    "\n",
    "    def count_values_by_column(self, column):\n",
    "        return self.df[column].value_counts()\n",
    "\n",
    "    def create_df_from_series(self, series):\n",
    "        return series.reset_index()\n",
    "\n",
    "    def give_columns(self, dataframe, column_one, column_two):\n",
    "        dataframe.columns = (column_one, column_two)\n",
    "\n",
    "    def fix_repeat(self, df, column):\n",
    "        df[column] = df[column].str.split(';')\n",
    "        df = df.explode(column)\n",
    "        return df.groupby(column)['count'].sum().reset_index()\n",
    "\n",
    "    def sort_values_by_column(self, df):\n",
    "        return df.sort_values(by='count', ascending=False)\n",
    "\n",
    "    def get_value_df_by_column(self, column):\n",
    "        series = self.count_values_by_column(column)\n",
    "        result_df = self.create_df_from_series(series)\n",
    "        self.give_columns(result_df, column, 'count')\n",
    "        result_df = self.fix_repeat(result_df, column)\n",
    "        result_df = self.sort_values_by_column(result_df)\n",
    "        return result_df        "
   ]
  },
  {
   "cell_type": "code",
   "execution_count": 4,
   "id": "98aff869-f113-4f5a-9527-90b92d26c290",
   "metadata": {
    "jupyter": {
     "source_hidden": true
    }
   },
   "outputs": [],
   "source": [
    "# filtering according to country and purchase influence columns\n",
    "\n",
    "high_influence_df = df[(df['Country'] == 'Iran, Islamic Republic of...') & (df['PurchaseInfluence'] == 'I have a great deal of influence')]"
   ]
  },
  {
   "cell_type": "code",
   "execution_count": 5,
   "id": "5706cf83-a7e1-40a5-8522-3b2240b55419",
   "metadata": {
    "jupyter": {
     "source_hidden": true
    }
   },
   "outputs": [],
   "source": [
    "# filtering according to country and purchase influence columns\n",
    "\n",
    "some_influence_df = df[(df['Country'] == 'Iran, Islamic Republic of...') & (df['PurchaseInfluence'] == 'I have some influence')]\n"
   ]
  },
  {
   "cell_type": "code",
   "execution_count": 6,
   "id": "98f13d28-3cc4-4e53-a38a-f20a6549ff52",
   "metadata": {},
   "outputs": [],
   "source": [
    "high_result_maker = ResultDfMaker(high_influence_df)\n",
    "some_result_maker = ResultDfMaker(some_influence_df)"
   ]
  },
  {
   "cell_type": "code",
   "execution_count": 7,
   "id": "5ba60a2d-4a5b-49d4-b1e0-8d8b792f928a",
   "metadata": {
    "scrolled": true
   },
   "outputs": [
    {
     "data": {
      "text/html": [
       "<div>\n",
       "<style scoped>\n",
       "    .dataframe tbody tr th:only-of-type {\n",
       "        vertical-align: middle;\n",
       "    }\n",
       "\n",
       "    .dataframe tbody tr th {\n",
       "        vertical-align: top;\n",
       "    }\n",
       "\n",
       "    .dataframe thead th {\n",
       "        text-align: right;\n",
       "    }\n",
       "</style>\n",
       "<table border=\"1\" class=\"dataframe\">\n",
       "  <thead>\n",
       "    <tr style=\"text-align: right;\">\n",
       "      <th></th>\n",
       "      <th>Employment</th>\n",
       "      <th>count</th>\n",
       "    </tr>\n",
       "  </thead>\n",
       "  <tbody>\n",
       "    <tr>\n",
       "      <th>0</th>\n",
       "      <td>Employed, full-time</td>\n",
       "      <td>80</td>\n",
       "    </tr>\n",
       "    <tr>\n",
       "      <th>3</th>\n",
       "      <td>Independent contractor, freelancer, or self-employed</td>\n",
       "      <td>40</td>\n",
       "    </tr>\n",
       "    <tr>\n",
       "      <th>1</th>\n",
       "      <td>Employed, part-time</td>\n",
       "      <td>10</td>\n",
       "    </tr>\n",
       "    <tr>\n",
       "      <th>2</th>\n",
       "      <td>I prefer not to say</td>\n",
       "      <td>2</td>\n",
       "    </tr>\n",
       "  </tbody>\n",
       "</table>\n",
       "</div>"
      ],
      "text/plain": [
       "                                             Employment  count\n",
       "0                                   Employed, full-time     80\n",
       "3  Independent contractor, freelancer, or self-employed     40\n",
       "1                                   Employed, part-time     10\n",
       "2                                   I prefer not to say      2"
      ]
     },
     "execution_count": 7,
     "metadata": {},
     "output_type": "execute_result"
    }
   ],
   "source": [
    "high_influence_employment_df = high_result_maker.get_value_df_by_column('Employment')\n",
    "high_influence_employment_df"
   ]
  },
  {
   "cell_type": "code",
   "execution_count": 8,
   "id": "1b536bfd-5afc-4fcc-ba4d-f651cb6a4361",
   "metadata": {
    "scrolled": true
   },
   "outputs": [
    {
     "data": {
      "text/html": [
       "<div>\n",
       "<style scoped>\n",
       "    .dataframe tbody tr th:only-of-type {\n",
       "        vertical-align: middle;\n",
       "    }\n",
       "\n",
       "    .dataframe tbody tr th {\n",
       "        vertical-align: top;\n",
       "    }\n",
       "\n",
       "    .dataframe thead th {\n",
       "        text-align: right;\n",
       "    }\n",
       "</style>\n",
       "<table border=\"1\" class=\"dataframe\">\n",
       "  <thead>\n",
       "    <tr style=\"text-align: right;\">\n",
       "      <th></th>\n",
       "      <th>Employment</th>\n",
       "      <th>count</th>\n",
       "    </tr>\n",
       "  </thead>\n",
       "  <tbody>\n",
       "    <tr>\n",
       "      <th>0</th>\n",
       "      <td>Employed, full-time</td>\n",
       "      <td>150</td>\n",
       "    </tr>\n",
       "    <tr>\n",
       "      <th>3</th>\n",
       "      <td>Independent contractor, freelancer, or self-employed</td>\n",
       "      <td>33</td>\n",
       "    </tr>\n",
       "    <tr>\n",
       "      <th>1</th>\n",
       "      <td>Employed, part-time</td>\n",
       "      <td>10</td>\n",
       "    </tr>\n",
       "    <tr>\n",
       "      <th>2</th>\n",
       "      <td>I prefer not to say</td>\n",
       "      <td>1</td>\n",
       "    </tr>\n",
       "  </tbody>\n",
       "</table>\n",
       "</div>"
      ],
      "text/plain": [
       "                                             Employment  count\n",
       "0                                   Employed, full-time    150\n",
       "3  Independent contractor, freelancer, or self-employed     33\n",
       "1                                   Employed, part-time     10\n",
       "2                                   I prefer not to say      1"
      ]
     },
     "execution_count": 8,
     "metadata": {},
     "output_type": "execute_result"
    }
   ],
   "source": [
    "some_influence_employment_df = some_result_maker.get_value_df_by_column('Employment')\n",
    "some_influence_employment_df"
   ]
  },
  {
   "cell_type": "code",
   "execution_count": 9,
   "id": "312baa19-675e-4f55-8b2e-c6fdd662c228",
   "metadata": {},
   "outputs": [
    {
     "data": {
      "text/html": [
       "<div>\n",
       "<style scoped>\n",
       "    .dataframe tbody tr th:only-of-type {\n",
       "        vertical-align: middle;\n",
       "    }\n",
       "\n",
       "    .dataframe tbody tr th {\n",
       "        vertical-align: top;\n",
       "    }\n",
       "\n",
       "    .dataframe thead th {\n",
       "        text-align: right;\n",
       "    }\n",
       "</style>\n",
       "<table border=\"1\" class=\"dataframe\">\n",
       "  <thead>\n",
       "    <tr style=\"text-align: right;\">\n",
       "      <th></th>\n",
       "      <th>DevType</th>\n",
       "      <th>count</th>\n",
       "    </tr>\n",
       "  </thead>\n",
       "  <tbody>\n",
       "    <tr>\n",
       "      <th>11</th>\n",
       "      <td>Developer, full-stack</td>\n",
       "      <td>42</td>\n",
       "    </tr>\n",
       "    <tr>\n",
       "      <th>7</th>\n",
       "      <td>Developer, back-end</td>\n",
       "      <td>28</td>\n",
       "    </tr>\n",
       "    <tr>\n",
       "      <th>19</th>\n",
       "      <td>Project manager</td>\n",
       "      <td>5</td>\n",
       "    </tr>\n",
       "    <tr>\n",
       "      <th>10</th>\n",
       "      <td>Developer, front-end</td>\n",
       "      <td>4</td>\n",
       "    </tr>\n",
       "    <tr>\n",
       "      <th>8</th>\n",
       "      <td>Developer, desktop or enterprise applications</td>\n",
       "      <td>4</td>\n",
       "    </tr>\n",
       "    <tr>\n",
       "      <th>16</th>\n",
       "      <td>Engineering manager</td>\n",
       "      <td>3</td>\n",
       "    </tr>\n",
       "    <tr>\n",
       "      <th>18</th>\n",
       "      <td>Product manager</td>\n",
       "      <td>3</td>\n",
       "    </tr>\n",
       "    <tr>\n",
       "      <th>3</th>\n",
       "      <td>Data scientist or machine learning specialist</td>\n",
       "      <td>2</td>\n",
       "    </tr>\n",
       "    <tr>\n",
       "      <th>22</th>\n",
       "      <td>Senior Executive (C-Suite, VP, etc.)</td>\n",
       "      <td>2</td>\n",
       "    </tr>\n",
       "    <tr>\n",
       "      <th>21</th>\n",
       "      <td>Security professional</td>\n",
       "      <td>2</td>\n",
       "    </tr>\n",
       "    <tr>\n",
       "      <th>14</th>\n",
       "      <td>Engineer, data</td>\n",
       "      <td>2</td>\n",
       "    </tr>\n",
       "    <tr>\n",
       "      <th>20</th>\n",
       "      <td>Research &amp; Development role</td>\n",
       "      <td>2</td>\n",
       "    </tr>\n",
       "    <tr>\n",
       "      <th>13</th>\n",
       "      <td>Developer, mobile</td>\n",
       "      <td>2</td>\n",
       "    </tr>\n",
       "    <tr>\n",
       "      <th>2</th>\n",
       "      <td>Data or business analyst</td>\n",
       "      <td>2</td>\n",
       "    </tr>\n",
       "    <tr>\n",
       "      <th>9</th>\n",
       "      <td>Developer, embedded applications or devices</td>\n",
       "      <td>2</td>\n",
       "    </tr>\n",
       "    <tr>\n",
       "      <th>1</th>\n",
       "      <td>Cloud infrastructure engineer</td>\n",
       "      <td>1</td>\n",
       "    </tr>\n",
       "    <tr>\n",
       "      <th>6</th>\n",
       "      <td>Developer, QA or test</td>\n",
       "      <td>1</td>\n",
       "    </tr>\n",
       "    <tr>\n",
       "      <th>5</th>\n",
       "      <td>Developer Advocate</td>\n",
       "      <td>1</td>\n",
       "    </tr>\n",
       "    <tr>\n",
       "      <th>4</th>\n",
       "      <td>DevOps specialist</td>\n",
       "      <td>1</td>\n",
       "    </tr>\n",
       "    <tr>\n",
       "      <th>0</th>\n",
       "      <td>Blockchain</td>\n",
       "      <td>1</td>\n",
       "    </tr>\n",
       "    <tr>\n",
       "      <th>15</th>\n",
       "      <td>Engineer, site reliability</td>\n",
       "      <td>1</td>\n",
       "    </tr>\n",
       "    <tr>\n",
       "      <th>12</th>\n",
       "      <td>Developer, game or graphics</td>\n",
       "      <td>1</td>\n",
       "    </tr>\n",
       "    <tr>\n",
       "      <th>17</th>\n",
       "      <td>Other (please specify):</td>\n",
       "      <td>1</td>\n",
       "    </tr>\n",
       "    <tr>\n",
       "      <th>23</th>\n",
       "      <td>System administrator</td>\n",
       "      <td>1</td>\n",
       "    </tr>\n",
       "  </tbody>\n",
       "</table>\n",
       "</div>"
      ],
      "text/plain": [
       "                                          DevType  count\n",
       "11                          Developer, full-stack     42\n",
       "7                             Developer, back-end     28\n",
       "19                                Project manager      5\n",
       "10                           Developer, front-end      4\n",
       "8   Developer, desktop or enterprise applications      4\n",
       "16                            Engineering manager      3\n",
       "18                                Product manager      3\n",
       "3   Data scientist or machine learning specialist      2\n",
       "22           Senior Executive (C-Suite, VP, etc.)      2\n",
       "21                          Security professional      2\n",
       "14                                 Engineer, data      2\n",
       "20                    Research & Development role      2\n",
       "13                              Developer, mobile      2\n",
       "2                        Data or business analyst      2\n",
       "9     Developer, embedded applications or devices      2\n",
       "1                   Cloud infrastructure engineer      1\n",
       "6                           Developer, QA or test      1\n",
       "5                              Developer Advocate      1\n",
       "4                               DevOps specialist      1\n",
       "0                                      Blockchain      1\n",
       "15                     Engineer, site reliability      1\n",
       "12                    Developer, game or graphics      1\n",
       "17                        Other (please specify):      1\n",
       "23                           System administrator      1"
      ]
     },
     "execution_count": 9,
     "metadata": {},
     "output_type": "execute_result"
    }
   ],
   "source": [
    "high_influence_devtype = high_result_maker.get_value_df_by_column('DevType')\n",
    "high_influence_devtype"
   ]
  },
  {
   "cell_type": "code",
   "execution_count": 10,
   "id": "3f4369de-2c2e-4617-9b99-0b590cced52d",
   "metadata": {
    "scrolled": true
   },
   "outputs": [
    {
     "data": {
      "text/html": [
       "<div>\n",
       "<style scoped>\n",
       "    .dataframe tbody tr th:only-of-type {\n",
       "        vertical-align: middle;\n",
       "    }\n",
       "\n",
       "    .dataframe tbody tr th {\n",
       "        vertical-align: top;\n",
       "    }\n",
       "\n",
       "    .dataframe thead th {\n",
       "        text-align: right;\n",
       "    }\n",
       "</style>\n",
       "<table border=\"1\" class=\"dataframe\">\n",
       "  <thead>\n",
       "    <tr style=\"text-align: right;\">\n",
       "      <th></th>\n",
       "      <th>DevType</th>\n",
       "      <th>count</th>\n",
       "    </tr>\n",
       "  </thead>\n",
       "  <tbody>\n",
       "    <tr>\n",
       "      <th>7</th>\n",
       "      <td>Developer, back-end</td>\n",
       "      <td>43</td>\n",
       "    </tr>\n",
       "    <tr>\n",
       "      <th>11</th>\n",
       "      <td>Developer, full-stack</td>\n",
       "      <td>42</td>\n",
       "    </tr>\n",
       "    <tr>\n",
       "      <th>10</th>\n",
       "      <td>Developer, front-end</td>\n",
       "      <td>23</td>\n",
       "    </tr>\n",
       "    <tr>\n",
       "      <th>13</th>\n",
       "      <td>Developer, mobile</td>\n",
       "      <td>16</td>\n",
       "    </tr>\n",
       "    <tr>\n",
       "      <th>8</th>\n",
       "      <td>Developer, desktop or enterprise applications</td>\n",
       "      <td>14</td>\n",
       "    </tr>\n",
       "    <tr>\n",
       "      <th>3</th>\n",
       "      <td>Data scientist or machine learning specialist</td>\n",
       "      <td>7</td>\n",
       "    </tr>\n",
       "    <tr>\n",
       "      <th>9</th>\n",
       "      <td>Developer, embedded applications or devices</td>\n",
       "      <td>7</td>\n",
       "    </tr>\n",
       "    <tr>\n",
       "      <th>17</th>\n",
       "      <td>Other (please specify):</td>\n",
       "      <td>2</td>\n",
       "    </tr>\n",
       "    <tr>\n",
       "      <th>4</th>\n",
       "      <td>DevOps specialist</td>\n",
       "      <td>2</td>\n",
       "    </tr>\n",
       "    <tr>\n",
       "      <th>20</th>\n",
       "      <td>Scientist</td>\n",
       "      <td>2</td>\n",
       "    </tr>\n",
       "    <tr>\n",
       "      <th>12</th>\n",
       "      <td>Developer, game or graphics</td>\n",
       "      <td>2</td>\n",
       "    </tr>\n",
       "    <tr>\n",
       "      <th>0</th>\n",
       "      <td>Blockchain</td>\n",
       "      <td>1</td>\n",
       "    </tr>\n",
       "    <tr>\n",
       "      <th>2</th>\n",
       "      <td>Data or business analyst</td>\n",
       "      <td>1</td>\n",
       "    </tr>\n",
       "    <tr>\n",
       "      <th>1</th>\n",
       "      <td>Cloud infrastructure engineer</td>\n",
       "      <td>1</td>\n",
       "    </tr>\n",
       "    <tr>\n",
       "      <th>5</th>\n",
       "      <td>Developer Experience</td>\n",
       "      <td>1</td>\n",
       "    </tr>\n",
       "    <tr>\n",
       "      <th>6</th>\n",
       "      <td>Developer, QA or test</td>\n",
       "      <td>1</td>\n",
       "    </tr>\n",
       "    <tr>\n",
       "      <th>14</th>\n",
       "      <td>Engineer, data</td>\n",
       "      <td>1</td>\n",
       "    </tr>\n",
       "    <tr>\n",
       "      <th>16</th>\n",
       "      <td>Engineering manager</td>\n",
       "      <td>1</td>\n",
       "    </tr>\n",
       "    <tr>\n",
       "      <th>15</th>\n",
       "      <td>Engineer, site reliability</td>\n",
       "      <td>1</td>\n",
       "    </tr>\n",
       "    <tr>\n",
       "      <th>18</th>\n",
       "      <td>Project manager</td>\n",
       "      <td>1</td>\n",
       "    </tr>\n",
       "    <tr>\n",
       "      <th>19</th>\n",
       "      <td>Research &amp; Development role</td>\n",
       "      <td>1</td>\n",
       "    </tr>\n",
       "  </tbody>\n",
       "</table>\n",
       "</div>"
      ],
      "text/plain": [
       "                                          DevType  count\n",
       "7                             Developer, back-end     43\n",
       "11                          Developer, full-stack     42\n",
       "10                           Developer, front-end     23\n",
       "13                              Developer, mobile     16\n",
       "8   Developer, desktop or enterprise applications     14\n",
       "3   Data scientist or machine learning specialist      7\n",
       "9     Developer, embedded applications or devices      7\n",
       "17                        Other (please specify):      2\n",
       "4                               DevOps specialist      2\n",
       "20                                      Scientist      2\n",
       "12                    Developer, game or graphics      2\n",
       "0                                      Blockchain      1\n",
       "2                        Data or business analyst      1\n",
       "1                   Cloud infrastructure engineer      1\n",
       "5                            Developer Experience      1\n",
       "6                           Developer, QA or test      1\n",
       "14                                 Engineer, data      1\n",
       "16                            Engineering manager      1\n",
       "15                     Engineer, site reliability      1\n",
       "18                                Project manager      1\n",
       "19                    Research & Development role      1"
      ]
     },
     "execution_count": 10,
     "metadata": {},
     "output_type": "execute_result"
    }
   ],
   "source": [
    "some_influence_devtype = some_result_maker.get_value_df_by_column('DevType')\n",
    "some_influence_devtype"
   ]
  },
  {
   "cell_type": "code",
   "execution_count": 11,
   "id": "661cca31-d07c-448c-8873-e56c0b08b371",
   "metadata": {
    "scrolled": true
   },
   "outputs": [
    {
     "ename": "NameError",
     "evalue": "name 'high_influence_yearscodepro' is not defined",
     "output_type": "error",
     "traceback": [
      "\u001b[1;31m---------------------------------------------------------------------------\u001b[0m",
      "\u001b[1;31mNameError\u001b[0m                                 Traceback (most recent call last)",
      "Cell \u001b[1;32mIn[11], line 2\u001b[0m\n\u001b[0;32m      1\u001b[0m high_influence_yearscodeprp \u001b[38;5;241m=\u001b[39m high_result_maker\u001b[38;5;241m.\u001b[39mget_value_df_by_column(\u001b[38;5;124m'\u001b[39m\u001b[38;5;124mYearsCodePro\u001b[39m\u001b[38;5;124m'\u001b[39m)\n\u001b[1;32m----> 2\u001b[0m \u001b[43mhigh_influence_yearscodepro\u001b[49m\n",
      "\u001b[1;31mNameError\u001b[0m: name 'high_influence_yearscodepro' is not defined"
     ]
    }
   ],
   "source": [
    "high_influence_yearscodeprp = high_result_maker.get_value_df_by_column('YearsCodePro')\n",
    "high_influence_yearscodepro"
   ]
  },
  {
   "cell_type": "code",
   "execution_count": null,
   "id": "1d1a630e-e345-4caf-98ee-b9ce866ec8c5",
   "metadata": {
    "scrolled": true
   },
   "outputs": [],
   "source": [
    "some_influence_yearscodeprp = some_result_maker.get_value_df_by_column('YearsCodePro')\n",
    "some_influence_yearscodepro"
   ]
  },
  {
   "cell_type": "code",
   "execution_count": null,
   "id": "017d1bbc-eac4-4916-b642-e0d83b6fcf0d",
   "metadata": {},
   "outputs": [],
   "source": [
    "high_influence_edlevel = high_result_maker.get_value_df_by_column('EdLevel')\n",
    "high_influence_edlevel"
   ]
  },
  {
   "cell_type": "code",
   "execution_count": null,
   "id": "b0e77f88-1283-46b2-8292-e6983bc83685",
   "metadata": {
    "scrolled": true
   },
   "outputs": [],
   "source": [
    "some_influence_edlevel = some_result_maker.get_value_df_by_column('EdLevel')\n",
    "some_influence_edlevel"
   ]
  },
  {
   "cell_type": "code",
   "execution_count": null,
   "id": "d09651e1-cdd5-4b14-be6d-c0ea7ffdfca9",
   "metadata": {
    "scrolled": true
   },
   "outputs": [],
   "source": [
    "high_influence_age = high_result_maker.get_value_df_by_column('Age')\n",
    "high_influence_age"
   ]
  },
  {
   "cell_type": "code",
   "execution_count": null,
   "id": "a1a352f2-9435-4a59-9622-d4767a3b9046",
   "metadata": {
    "scrolled": true
   },
   "outputs": [],
   "source": [
    "some_influence_age = some_result_maker.get_value_df_by_column('Age')\n",
    "some_influence_age"
   ]
  }
 ],
 "metadata": {
  "kernelspec": {
   "display_name": "Python 3 (ipykernel)",
   "language": "python",
   "name": "python3"
  },
  "language_info": {
   "codemirror_mode": {
    "name": "ipython",
    "version": 3
   },
   "file_extension": ".py",
   "mimetype": "text/x-python",
   "name": "python",
   "nbconvert_exporter": "python",
   "pygments_lexer": "ipython3",
   "version": "3.12.2"
  }
 },
 "nbformat": 4,
 "nbformat_minor": 5
}
