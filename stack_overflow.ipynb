{
 "cells": [
  {
   "cell_type": "code",
   "execution_count": 2,
   "id": "8db15af8-65da-46f7-ac30-a32ccdb4cbeb",
   "metadata": {
    "scrolled": true
   },
   "outputs": [],
   "source": [
    "\n",
    "import pandas as pd"
   ]
  },
  {
   "cell_type": "code",
   "execution_count": 3,
   "id": "67ab7b43-0e32-4b78-8b47-46c47766c130",
   "metadata": {},
   "outputs": [],
   "source": [
    "df = pd.read_csv('./data/survey_results_public.csv')\n",
    "df_schema = pd.read_csv('./data/survey_results_schema.csv')"
   ]
  },
  {
   "cell_type": "code",
   "execution_count": 7,
   "id": "3be77d38-5e18-4de3-8ff1-176dca8e149c",
   "metadata": {},
   "outputs": [],
   "source": [
    "country_series = df['Country']"
   ]
  },
  {
   "cell_type": "code",
   "execution_count": 10,
   "id": "ee8e5cb9-0207-42d1-8762-9872073e36e5",
   "metadata": {},
   "outputs": [
    {
     "data": {
      "text/plain": [
       "74       Iran, Islamic Republic of...\n",
       "87       Iran, Islamic Republic of...\n",
       "142      Iran, Islamic Republic of...\n",
       "176      Iran, Islamic Republic of...\n",
       "227      Iran, Islamic Republic of...\n",
       "                     ...             \n",
       "88568    Iran, Islamic Republic of...\n",
       "88635    Iran, Islamic Republic of...\n",
       "88929    Iran, Islamic Republic of...\n",
       "88938    Iran, Islamic Republic of...\n",
       "89183    Iran, Islamic Republic of...\n",
       "Name: Country, Length: 577, dtype: object"
      ]
     },
     "execution_count": 10,
     "metadata": {},
     "output_type": "execute_result"
    }
   ],
   "source": [
    "country_series[country_series == 'Iran, Islamic Republic of...']"
   ]
  }
 ],
 "metadata": {
  "kernelspec": {
   "display_name": "Python 3 (ipykernel)",
   "language": "python",
   "name": "python3"
  },
  "language_info": {
   "codemirror_mode": {
    "name": "ipython",
    "version": 3
   },
   "file_extension": ".py",
   "mimetype": "text/x-python",
   "name": "python",
   "nbconvert_exporter": "python",
   "pygments_lexer": "ipython3",
   "version": "3.12.2"
  }
 },
 "nbformat": 4,
 "nbformat_minor": 5
}
