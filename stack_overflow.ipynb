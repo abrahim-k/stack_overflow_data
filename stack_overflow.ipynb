{
 "cells": [
  {
   "cell_type": "code",
   "execution_count": 23,
   "id": "8db15af8-65da-46f7-ac30-a32ccdb4cbeb",
   "metadata": {
    "scrolled": true
   },
   "outputs": [],
   "source": [
    "import pandas as pd"
   ]
  },
  {
   "cell_type": "code",
   "execution_count": 24,
   "id": "67ab7b43-0e32-4b78-8b47-46c47766c130",
   "metadata": {},
   "outputs": [],
   "source": [
    "df = pd.read_csv('./data/survey_results_public.csv')\n",
    "df_schema = pd.read_csv('./data/survey_results_schema.csv')"
   ]
  },
  {
   "cell_type": "code",
   "execution_count": 25,
   "id": "98aff869-f113-4f5a-9527-90b92d26c290",
   "metadata": {},
   "outputs": [],
   "source": [
    "# filtering according to country and purchase influence columns\n",
    "\n",
    "high_influence_df = df[(df['Country'] == 'Iran, Islamic Republic of...') & (df['PurchaseInfluence'] == 'I have a great deal of influence')]\n",
    "high_influence_df"
   ]
  },
  {
   "cell_type": "code",
   "execution_count": 27,
   "id": "5706cf83-a7e1-40a5-8522-3b2240b55419",
   "metadata": {},
   "outputs": [],
   "source": [
    "# filtering according to country and purchase influence columns\n",
    "\n",
    "some_influence_df = df[(df['Country'] == 'Iran, Islamic Republic of...') & (df['PurchaseInfluence'] == 'I have some influence')]\n",
    "some_influence_df"
   ]
  },
  {
   "cell_type": "code",
   "execution_count": 29,
   "id": "783c0834-95c2-4555-86e7-a098d31d00ad",
   "metadata": {},
   "outputs": [
    {
     "data": {
      "text/plain": [
       "Employment\n",
       "Employed, full-time                                                                             70\n",
       "Independent contractor, freelancer, or self-employed                                            27\n",
       "Employed, full-time;Independent contractor, freelancer, or self-employed                         7\n",
       "Independent contractor, freelancer, or self-employed;Employed, part-time                         5\n",
       "Employed, full-time;Employed, part-time                                                          2\n",
       "Employed, part-time                                                                              2\n",
       "I prefer not to say                                                                              2\n",
       "Employed, full-time;Independent contractor, freelancer, or self-employed;Employed, part-time     1\n",
       "Name: count, dtype: int64"
      ]
     },
     "execution_count": 29,
     "metadata": {},
     "output_type": "execute_result"
    }
   ],
   "source": [
    "# table of employment distribution for developers with high influence\n",
    "\n",
    "high_influence_employment = high_influence_df['Employment'].value_counts()\n",
    "high_influence_employment"
   ]
  },
  {
   "cell_type": "code",
   "execution_count": 30,
   "id": "a6a691d2-5eab-4ccf-b956-20d5ddc80f38",
   "metadata": {},
   "outputs": [
    {
     "data": {
      "text/plain": [
       "Employment\n",
       "Employed, full-time                                                                             132\n",
       "Independent contractor, freelancer, or self-employed                                             16\n",
       "Employed, full-time;Independent contractor, freelancer, or self-employed                         13\n",
       "Employed, part-time                                                                               5\n",
       "Employed, full-time;Independent contractor, freelancer, or self-employed;Employed, part-time      4\n",
       "I prefer not to say                                                                               1\n",
       "Employed, full-time;Employed, part-time                                                           1\n",
       "Name: count, dtype: int64"
      ]
     },
     "execution_count": 30,
     "metadata": {},
     "output_type": "execute_result"
    }
   ],
   "source": [
    "# table of employment distribution for developers with some influence\n",
    "\n",
    "some_influence_employment = some_influence_df['Employment'].value_counts()\n",
    "some_influence_employment"
   ]
  },
  {
   "cell_type": "code",
   "execution_count": 31,
   "id": "01338272-f948-4401-ad53-eaf57ddfe2ec",
   "metadata": {},
   "outputs": [
    {
     "data": {
      "text/plain": [
       "DevType\n",
       "Developer, full-stack                            42\n",
       "Developer, back-end                              28\n",
       "Project manager                                   5\n",
       "Developer, front-end                              4\n",
       "Developer, desktop or enterprise applications     4\n",
       "Engineering manager                               3\n",
       "Product manager                                   3\n",
       "Developer, mobile                                 2\n",
       "Engineer, data                                    2\n",
       "Research & Development role                       2\n",
       "Security professional                             2\n",
       "Data or business analyst                          2\n",
       "Senior Executive (C-Suite, VP, etc.)              2\n",
       "Data scientist or machine learning specialist     2\n",
       "Developer, embedded applications or devices       2\n",
       "Blockchain                                        1\n",
       "Other (please specify):                           1\n",
       "DevOps specialist                                 1\n",
       "System administrator                              1\n",
       "Engineer, site reliability                        1\n",
       "Developer, QA or test                             1\n",
       "Developer, game or graphics                       1\n",
       "Cloud infrastructure engineer                     1\n",
       "Developer Advocate                                1\n",
       "Name: count, dtype: int64"
      ]
     },
     "execution_count": 31,
     "metadata": {},
     "output_type": "execute_result"
    }
   ],
   "source": [
    "# table of devtype distribution for developers with high influence\n",
    "\n",
    "high_influence_devtype = high_influence_df['DevType'].value_counts()\n",
    "high_influence_devtype"
   ]
  },
  {
   "cell_type": "code",
   "execution_count": 32,
   "id": "ce0c6969-0c49-41fd-95f5-13f39727a3cd",
   "metadata": {},
   "outputs": [
    {
     "data": {
      "text/plain": [
       "DevType\n",
       "Developer, back-end                              43\n",
       "Developer, full-stack                            42\n",
       "Developer, front-end                             23\n",
       "Developer, mobile                                16\n",
       "Developer, desktop or enterprise applications    14\n",
       "Data scientist or machine learning specialist     7\n",
       "Developer, embedded applications or devices       7\n",
       "Developer, game or graphics                       2\n",
       "Scientist                                         2\n",
       "DevOps specialist                                 2\n",
       "Other (please specify):                           2\n",
       "Blockchain                                        1\n",
       "Engineer, site reliability                        1\n",
       "Engineering manager                               1\n",
       "Data or business analyst                          1\n",
       "Engineer, data                                    1\n",
       "Project manager                                   1\n",
       "Cloud infrastructure engineer                     1\n",
       "Developer, QA or test                             1\n",
       "Research & Development role                       1\n",
       "Developer Experience                              1\n",
       "Name: count, dtype: int64"
      ]
     },
     "execution_count": 32,
     "metadata": {},
     "output_type": "execute_result"
    }
   ],
   "source": [
    "# table of devtype distribution for developers with some influence\n",
    "\n",
    "some_influence_devtype = some_influence_df['DevType'].value_counts()\n",
    "some_influence_devtype"
   ]
  },
  {
   "cell_type": "code",
   "execution_count": 33,
   "id": "aa8d1c9e-4c09-4244-968f-35354d22c404",
   "metadata": {},
   "outputs": [
    {
     "data": {
      "text/plain": [
       "YearsCodePro\n",
       "8                   18\n",
       "10                  12\n",
       "5                   11\n",
       "3                    9\n",
       "6                    8\n",
       "4                    8\n",
       "7                    7\n",
       "20                   6\n",
       "2                    5\n",
       "13                   4\n",
       "Less than 1 year     4\n",
       "9                    3\n",
       "14                   3\n",
       "1                    3\n",
       "11                   2\n",
       "16                   2\n",
       "22                   2\n",
       "12                   2\n",
       "15                   1\n",
       "17                   1\n",
       "18                   1\n",
       "24                   1\n",
       "33                   1\n",
       "29                   1\n",
       "Name: count, dtype: int64"
      ]
     },
     "execution_count": 33,
     "metadata": {},
     "output_type": "execute_result"
    }
   ],
   "source": [
    "# table of yearscodepro distribution for developers with high influence\n",
    "\n",
    "high_influence_yearscodepro = high_influence_df['YearsCodePro'].value_counts()\n",
    "high_influence_yearscodepro"
   ]
  },
  {
   "cell_type": "code",
   "execution_count": 35,
   "id": "35ffd8e7-3050-4c21-ab64-298460f0bdf5",
   "metadata": {},
   "outputs": [
    {
     "data": {
      "text/plain": [
       "YearsCodePro\n",
       "5                   32\n",
       "3                   19\n",
       "4                   17\n",
       "6                   16\n",
       "7                   15\n",
       "8                   12\n",
       "2                   12\n",
       "10                  10\n",
       "12                   8\n",
       "11                   5\n",
       "20                   5\n",
       "15                   4\n",
       "14                   3\n",
       "1                    3\n",
       "16                   2\n",
       "Less than 1 year     2\n",
       "21                   1\n",
       "13                   1\n",
       "25                   1\n",
       "9                    1\n",
       "22                   1\n",
       "32                   1\n",
       "18                   1\n",
       "Name: count, dtype: int64"
      ]
     },
     "execution_count": 35,
     "metadata": {},
     "output_type": "execute_result"
    }
   ],
   "source": [
    "# table of yearscodepro distribution for developers with some influence\n",
    "\n",
    "some_influence_yearscodepro = some_influence_df['YearsCodePro'].value_counts()\n",
    "some_influence_yearscodepro"
   ]
  },
  {
   "cell_type": "code",
   "execution_count": 37,
   "id": "c9149a1d-cbf2-4298-9c15-1127b33a6825",
   "metadata": {},
   "outputs": [
    {
     "data": {
      "text/plain": [
       "EdLevel\n",
       "Bachelor’s degree (B.A., B.S., B.Eng., etc.)                                          52\n",
       "Master’s degree (M.A., M.S., M.Eng., MBA, etc.)                                       42\n",
       "Some college/university study without earning a degree                                 7\n",
       "Secondary school (e.g. American high school, German Realschule or Gymnasium, etc.)     5\n",
       "Associate degree (A.A., A.S., etc.)                                                    4\n",
       "Professional degree (JD, MD, Ph.D, Ed.D, etc.)                                         4\n",
       "Something else                                                                         3\n",
       "Name: count, dtype: int64"
      ]
     },
     "execution_count": 37,
     "metadata": {},
     "output_type": "execute_result"
    }
   ],
   "source": [
    "# table of edlevel distribution for developers with high influence\n",
    "\n",
    "high_influence_edlevel = high_influence_df['EdLevel'].value_counts()\n",
    "high_influence_edlevel"
   ]
  },
  {
   "cell_type": "code",
   "execution_count": 36,
   "id": "b8a03682-769e-4d06-985b-2ba2fb3365ff",
   "metadata": {},
   "outputs": [
    {
     "data": {
      "text/plain": [
       "EdLevel\n",
       "Bachelor’s degree (B.A., B.S., B.Eng., etc.)                                          91\n",
       "Master’s degree (M.A., M.S., M.Eng., MBA, etc.)                                       51\n",
       "Some college/university study without earning a degree                                16\n",
       "Associate degree (A.A., A.S., etc.)                                                    5\n",
       "Professional degree (JD, MD, Ph.D, Ed.D, etc.)                                         3\n",
       "Something else                                                                         2\n",
       "Primary/elementary school                                                              2\n",
       "Secondary school (e.g. American high school, German Realschule or Gymnasium, etc.)     2\n",
       "Name: count, dtype: int64"
      ]
     },
     "execution_count": 36,
     "metadata": {},
     "output_type": "execute_result"
    }
   ],
   "source": [
    "# table of edlevel distribution for developers with some influence\n",
    "\n",
    "some_influence_edlevel = some_influence_df['EdLevel'].value_counts()\n",
    "some_influence_edlevel"
   ]
  },
  {
   "cell_type": "code",
   "execution_count": 38,
   "id": "b697294e-bd8a-4b8f-9aae-330f3f7b58bf",
   "metadata": {},
   "outputs": [
    {
     "data": {
      "text/plain": [
       "Age\n",
       "25-34 years old       60\n",
       "35-44 years old       30\n",
       "18-24 years old       18\n",
       "45-54 years old        7\n",
       "Under 18 years old     2\n",
       "Name: count, dtype: int64"
      ]
     },
     "execution_count": 38,
     "metadata": {},
     "output_type": "execute_result"
    }
   ],
   "source": [
    "# table of age distribution for developers with some influence\n",
    "\n",
    "high_influence_age = high_influence_df['Age'].value_counts()\n",
    "high_influence_age"
   ]
  },
  {
   "cell_type": "code",
   "execution_count": 36,
   "id": "074b16c5-ce79-4be0-a80f-384a0c76a4e9",
   "metadata": {},
   "outputs": [
    {
     "data": {
      "text/plain": [
       "EdLevel\n",
       "Bachelor’s degree (B.A., B.S., B.Eng., etc.)                                          91\n",
       "Master’s degree (M.A., M.S., M.Eng., MBA, etc.)                                       51\n",
       "Some college/university study without earning a degree                                16\n",
       "Associate degree (A.A., A.S., etc.)                                                    5\n",
       "Professional degree (JD, MD, Ph.D, Ed.D, etc.)                                         3\n",
       "Something else                                                                         2\n",
       "Primary/elementary school                                                              2\n",
       "Secondary school (e.g. American high school, German Realschule or Gymnasium, etc.)     2\n",
       "Name: count, dtype: int64"
      ]
     },
     "execution_count": 36,
     "metadata": {},
     "output_type": "execute_result"
    }
   ],
   "source": [
    "# table of yearscodepro distribution for edlevel with some influence\n",
    "\n",
    "some_influence_edlevel = some_influence_df['EdLevel'].value_counts()\n",
    "some_influence_edlevel"
   ]
  }
 ],
 "metadata": {
  "kernelspec": {
   "display_name": "Python 3 (ipykernel)",
   "language": "python",
   "name": "python3"
  },
  "language_info": {
   "codemirror_mode": {
    "name": "ipython",
    "version": 3
   },
   "file_extension": ".py",
   "mimetype": "text/x-python",
   "name": "python",
   "nbconvert_exporter": "python",
   "pygments_lexer": "ipython3",
   "version": "3.12.2"
  }
 },
 "nbformat": 4,
 "nbformat_minor": 5
}
