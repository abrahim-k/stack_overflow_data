{
 "cells": [
  {
   "cell_type": "code",
   "execution_count": 23,
   "id": "8db15af8-65da-46f7-ac30-a32ccdb4cbeb",
   "metadata": {
    "scrolled": true
   },
   "outputs": [],
   "source": [
    "import pandas as pd"
   ]
  },
  {
   "cell_type": "code",
   "execution_count": 24,
   "id": "67ab7b43-0e32-4b78-8b47-46c47766c130",
   "metadata": {},
   "outputs": [],
   "source": [
    "df = pd.read_csv('./data/survey_results_public.csv')\n",
    "df_schema = pd.read_csv('./data/survey_results_schema.csv')"
   ]
  },
  {
   "cell_type": "code",
   "execution_count": 25,
   "id": "98aff869-f113-4f5a-9527-90b92d26c290",
   "metadata": {},
   "outputs": [],
   "source": [
    "# filtering according to country and purchase influence columns\n",
    "\n",
    "high_influence_df = df[(df['Country'] == 'Iran, Islamic Republic of...') & (df['PurchaseInfluence'] == 'I have a great deal of influence')]\n",
    "high_influence_df"
   ]
  },
  {
   "cell_type": "code",
   "execution_count": 27,
   "id": "5706cf83-a7e1-40a5-8522-3b2240b55419",
   "metadata": {},
   "outputs": [],
   "source": [
    "# filtering according to country and purchase influence columns\n",
    "\n",
    "some_influence_df = df[(df['Country'] == 'Iran, Islamic Republic of...') & (df['PurchaseInfluence'] == 'I have some influence')]\n",
    "some_influence_df"
   ]
  },
  {
   "cell_type": "code",
   "execution_count": 29,
   "id": "783c0834-95c2-4555-86e7-a098d31d00ad",
   "metadata": {},
   "outputs": [
    {
     "data": {
      "text/plain": [
       "Employment\n",
       "Employed, full-time                                                                             70\n",
       "Independent contractor, freelancer, or self-employed                                            27\n",
       "Employed, full-time;Independent contractor, freelancer, or self-employed                         7\n",
       "Independent contractor, freelancer, or self-employed;Employed, part-time                         5\n",
       "Employed, full-time;Employed, part-time                                                          2\n",
       "Employed, part-time                                                                              2\n",
       "I prefer not to say                                                                              2\n",
       "Employed, full-time;Independent contractor, freelancer, or self-employed;Employed, part-time     1\n",
       "Name: count, dtype: int64"
      ]
     },
     "execution_count": 29,
     "metadata": {},
     "output_type": "execute_result"
    }
   ],
   "source": [
    "# table of employment distribution for developers with high influence\n",
    "\n",
    "high_influence_employment = high_influence_df['Employment'].value_counts()\n",
    "high_influence_employment"
   ]
  },
  {
   "cell_type": "code",
   "execution_count": 30,
   "id": "a6a691d2-5eab-4ccf-b956-20d5ddc80f38",
   "metadata": {},
   "outputs": [
    {
     "data": {
      "text/plain": [
       "Employment\n",
       "Employed, full-time                                                                             132\n",
       "Independent contractor, freelancer, or self-employed                                             16\n",
       "Employed, full-time;Independent contractor, freelancer, or self-employed                         13\n",
       "Employed, part-time                                                                               5\n",
       "Employed, full-time;Independent contractor, freelancer, or self-employed;Employed, part-time      4\n",
       "I prefer not to say                                                                               1\n",
       "Employed, full-time;Employed, part-time                                                           1\n",
       "Name: count, dtype: int64"
      ]
     },
     "execution_count": 30,
     "metadata": {},
     "output_type": "execute_result"
    }
   ],
   "source": [
    "# table of employment distribution for developers with some influence\n",
    "\n",
    "some_influence_employment = some_influence_df['Employment'].value_counts()\n",
    "some_influence_employment"
   ]
  }
 ],
 "metadata": {
  "kernelspec": {
   "display_name": "Python 3 (ipykernel)",
   "language": "python",
   "name": "python3"
  },
  "language_info": {
   "codemirror_mode": {
    "name": "ipython",
    "version": 3
   },
   "file_extension": ".py",
   "mimetype": "text/x-python",
   "name": "python",
   "nbconvert_exporter": "python",
   "pygments_lexer": "ipython3",
   "version": "3.12.2"
  }
 },
 "nbformat": 4,
 "nbformat_minor": 5
}
